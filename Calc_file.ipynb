{
 "cells": [
  {
   "cell_type": "code",
   "execution_count": 1,
   "metadata": {},
   "outputs": [],
   "source": [
    "from __future__ import print_function\n",
    "import spiceypy\n",
    "import math\n",
    "import spiceypy.utils.support_types as stypes\n",
    "import matplotlib.pyplot as plt"
   ]
  },
  {
   "cell_type": "code",
   "execution_count": 2,
   "metadata": {},
   "outputs": [],
   "source": [
    "from sympy import *\n",
    "import numpy as np\n",
    "from matplotlib.dates import num2date\n",
    "from PIL import Image, ImageDraw\n",
    "import scipy.stats as sps"
   ]
  },
  {
   "cell_type": "code",
   "execution_count": 3,
   "metadata": {},
   "outputs": [],
   "source": [
    "f1 = open('time5.txt', 'w')"
   ]
  },
  {
   "cell_type": "code",
   "execution_count": 4,
   "metadata": {},
   "outputs": [
    {
     "ename": "SpiceyError",
     "evalue": "\n================================================================================\n\nToolkit version: N0066\n\nSPICE(NOSUCHFILE) --\n\nThe first file 'kernels/Ven_orb.bsp' specified by KERNELS_TO_LOAD in the file All_files_kernel.tm could not be located.\n\nfurnsh_c --> FURNSH --> ZZLDKER\n\n================================================================================",
     "output_type": "error",
     "traceback": [
      "\u001b[1;31m---------------------------------------------------------------------------\u001b[0m",
      "\u001b[1;31mSpiceyError\u001b[0m                               Traceback (most recent call last)",
      "\u001b[1;32m<ipython-input-4-1752ed07cbec>\u001b[0m in \u001b[0;36m<module>\u001b[1;34m\u001b[0m\n\u001b[0;32m      1\u001b[0m \u001b[0mmkfile\u001b[0m \u001b[1;33m=\u001b[0m \u001b[1;34m'All_files_kernel.tm'\u001b[0m\u001b[1;33m\u001b[0m\u001b[1;33m\u001b[0m\u001b[0m\n\u001b[1;32m----> 2\u001b[1;33m \u001b[0mspiceypy\u001b[0m\u001b[1;33m.\u001b[0m\u001b[0mfurnsh\u001b[0m\u001b[1;33m(\u001b[0m\u001b[0mmkfile\u001b[0m\u001b[1;33m)\u001b[0m\u001b[1;33m\u001b[0m\u001b[1;33m\u001b[0m\u001b[0m\n\u001b[0m",
      "\u001b[1;32mC:\\ProgramData\\Anaconda3\\lib\\site-packages\\spiceypy\\spiceypy.py\u001b[0m in \u001b[0;36mwith_errcheck\u001b[1;34m(*args, **kwargs)\u001b[0m\n\u001b[0;32m     74\u001b[0m         \u001b[1;32mtry\u001b[0m\u001b[1;33m:\u001b[0m\u001b[1;33m\u001b[0m\u001b[1;33m\u001b[0m\u001b[0m\n\u001b[0;32m     75\u001b[0m             \u001b[0mres\u001b[0m \u001b[1;33m=\u001b[0m \u001b[0mf\u001b[0m\u001b[1;33m(\u001b[0m\u001b[1;33m*\u001b[0m\u001b[0margs\u001b[0m\u001b[1;33m,\u001b[0m \u001b[1;33m**\u001b[0m\u001b[0mkwargs\u001b[0m\u001b[1;33m)\u001b[0m\u001b[1;33m\u001b[0m\u001b[1;33m\u001b[0m\u001b[0m\n\u001b[1;32m---> 76\u001b[1;33m             \u001b[0mcheckForSpiceError\u001b[0m\u001b[1;33m(\u001b[0m\u001b[0mf\u001b[0m\u001b[1;33m)\u001b[0m\u001b[1;33m\u001b[0m\u001b[1;33m\u001b[0m\u001b[0m\n\u001b[0m\u001b[0;32m     77\u001b[0m             \u001b[1;32mreturn\u001b[0m \u001b[0mres\u001b[0m\u001b[1;33m\u001b[0m\u001b[1;33m\u001b[0m\u001b[0m\n\u001b[0;32m     78\u001b[0m         \u001b[1;32mexcept\u001b[0m\u001b[1;33m:\u001b[0m\u001b[1;33m\u001b[0m\u001b[1;33m\u001b[0m\u001b[0m\n",
      "\u001b[1;32mC:\\ProgramData\\Anaconda3\\lib\\site-packages\\spiceypy\\spiceypy.py\u001b[0m in \u001b[0;36mcheckForSpiceError\u001b[1;34m(f)\u001b[0m\n\u001b[0;32m     57\u001b[0m         \u001b[0mmsg\u001b[0m \u001b[1;33m=\u001b[0m \u001b[0mstypes\u001b[0m\u001b[1;33m.\u001b[0m\u001b[0merrorformat\u001b[0m\u001b[1;33m.\u001b[0m\u001b[0mformat\u001b[0m\u001b[1;33m(\u001b[0m\u001b[1;33m**\u001b[0m\u001b[0merrorparts\u001b[0m\u001b[1;33m)\u001b[0m\u001b[1;33m\u001b[0m\u001b[1;33m\u001b[0m\u001b[0m\n\u001b[0;32m     58\u001b[0m         \u001b[0mreset\u001b[0m\u001b[1;33m(\u001b[0m\u001b[1;33m)\u001b[0m\u001b[1;33m\u001b[0m\u001b[1;33m\u001b[0m\u001b[0m\n\u001b[1;32m---> 59\u001b[1;33m         \u001b[1;32mraise\u001b[0m \u001b[0mstypes\u001b[0m\u001b[1;33m.\u001b[0m\u001b[0mSpiceyError\u001b[0m\u001b[1;33m(\u001b[0m\u001b[0mmsg\u001b[0m\u001b[1;33m)\u001b[0m\u001b[1;33m\u001b[0m\u001b[1;33m\u001b[0m\u001b[0m\n\u001b[0m\u001b[0;32m     60\u001b[0m \u001b[1;33m\u001b[0m\u001b[0m\n\u001b[0;32m     61\u001b[0m \u001b[1;33m\u001b[0m\u001b[0m\n",
      "\u001b[1;31mSpiceyError\u001b[0m: \n================================================================================\n\nToolkit version: N0066\n\nSPICE(NOSUCHFILE) --\n\nThe first file 'kernels/Ven_orb.bsp' specified by KERNELS_TO_LOAD in the file All_files_kernel.tm could not be located.\n\nfurnsh_c --> FURNSH --> ZZLDKER\n\n================================================================================"
     ]
    }
   ],
   "source": [
    "mkfile = 'All_files_kernel.tm'\n",
    "spiceypy.furnsh(mkfile)"
   ]
  },
  {
   "cell_type": "code",
   "execution_count": null,
   "metadata": {},
   "outputs": [],
   "source": [
    "def convertutc2et(string_date):\n",
    "\n",
    "    utc = string_date\n",
    "    et = spiceypy.str2et(utc)\n",
    "    \n",
    "    #print('UTC    ={:s}'.format(utc))\n",
    "    #print('ET     ={:20.6f}'.format(et))\n",
    "    \n",
    "    return et"
   ]
  },
  {
   "cell_type": "code",
   "execution_count": null,
   "metadata": {},
   "outputs": [],
   "source": [
    "def ettoutc(et):\n",
    "    utc = spiceypy.et2utc(et, \"ISOC\" , 3 , 19)\n",
    "    #print('UTC    ={:s}'.format(utc))"
   ]
  },
  {
   "cell_type": "code",
   "execution_count": null,
   "metadata": {},
   "outputs": [],
   "source": [
    "def getsta(et, string_sv, string_sk, correlation, star_space_object):\n",
    "    \n",
    "    target = string_sv\n",
    "    frame  = string_sk\n",
    "    corrtn = correlation\n",
    "    observ = star_space_object\n",
    "\n",
    "    state, ltime = spiceypy.spkezr(target, et, frame, corrtn, observ)\n",
    "\n",
    "    return state"
   ]
  },
  {
   "cell_type": "code",
   "execution_count": null,
   "metadata": {},
   "outputs": [],
   "source": [
    "def get_lint(a, r):\n",
    "    b = a*0.5\n",
    "    \n",
    "    intersections= []\n",
    "    \n",
    "    circ = Circle(Point(0, 0), r)\n",
    "    circ1 = Circle(Point(b[1],b[2]), math.sqrt(np.dot(b[1:],b[1:])))\n",
    "\n",
    "    tmp = intersection(circ, circ1)\n",
    "    \n",
    "    intersections.append(tmp[0])\n",
    "    intersections.append(tmp[1])\n",
    "    a1 = [_.evalf() for _ in intersections[0]]\n",
    "    b1 = [0, a1[0], a1[1]]\n",
    "    a2 = [_.evalf() for _ in intersections[1]]\n",
    "    b2 = [0, a2[0], a2[1]]\n",
    "\n",
    "    return np.array(b1, dtype = float), np.array(b2, dtype = float)"
   ]
  },
  {
   "cell_type": "code",
   "execution_count": null,
   "metadata": {},
   "outputs": [],
   "source": [
    "def get_angle1(a,b):\n",
    "    return math.acos(np.dot(a[1:3],b[1:3])/(math.sqrt(np.dot(a[1:3],a[1:3]))*math.sqrt(np.dot(b[1:3],b[1:3]))))*spiceypy.dpr()"
   ]
  },
  {
   "cell_type": "code",
   "execution_count": null,
   "metadata": {},
   "outputs": [],
   "source": [
    "def get_angle_(a, b, c, _y_):\n",
    "    return   (get_angle1(b,a)+get_angle1(_y_,a)) , get_angle1(_y_,c), get_angle1(_y_,a)"
   ]
  },
  {
   "cell_type": "code",
   "execution_count": null,
   "metadata": {},
   "outputs": [],
   "source": [
    "def get_rad(b, a):       \n",
    "    rad, rad1 = get_lint(a, b)\n",
    "    return rad-a, rad1-a"
   ]
  },
  {
   "cell_type": "code",
   "execution_count": null,
   "metadata": {},
   "outputs": [],
   "source": [
    "def get_norm(a):\n",
    "    return -a/math.sqrt(np.dot(a[1:],a[1:]))"
   ]
  },
  {
   "cell_type": "code",
   "execution_count": null,
   "metadata": {},
   "outputs": [],
   "source": [
    "def simple_calculus(et, target, frame, corrtn, observ, target1, frame1, corrtn1, observ1, R_v, R_a, s, t):\n",
    "        utc = spiceypy.et2utc(et, \"ISOC\" , 3 , 19)\n",
    "       \n",
    "        spoint = getsta(et, target, frame, corrtn, observ)[:3]\n",
    "        spoint1 =getsta(et, target1, frame1, corrtn1, observ1)[:3]\n",
    "\n",
    "        c = spoint1 - spoint\n",
    "\n",
    "        nV = get_norm(spoint)\n",
    "\n",
    "        c1, c11 = get_rad(R_v , spoint)\n",
    "        \n",
    "        c2, c22 = get_rad(R_a , spoint)\n",
    "\n",
    "        alpha_r_v = get_angle1(nV, spoint1)\n",
    "        \n",
    "        alpha_0, alpha_1, alpha_3 = get_angle_(c1, c2, c, nV)\n",
    "\n",
    "\n",
    "        if alpha_r_v < 90.0 and alpha_3 < alpha_1 < alpha_0:\n",
    "            s += 1\n",
    "            t = 0\n",
    "            print(utc)\n",
    "\n",
    "        elif alpha_r_v > 90.0 and alpha_3 < alpha_1 < alpha_0:\n",
    "            print('Greater' + '  ' + str(utc))\n",
    "            s = 0\n",
    "          \n",
    "        else:\n",
    "            t = s\n",
    "\n",
    "        if (s == 1) and (t == 0):\n",
    "            f1.write('Start observing: '+str(utc)+' '+str(spoint[0])+' '+str(spoint[1])+' '+str(spoint[2])+ '\\n')\n",
    "            \n",
    "        elif (s == t) and (1 <= t < 30):\n",
    "            f1.write('End observing: '+str(utc)+' '+str(alpha_1) +' '+ str(spoint[0])+' '+str(spoint[1])+' '+str(spoint[2])+ '\\n')\n",
    "            s = 0\n",
    "        et += det\n",
    "        pass"
   ]
  },
  {
   "cell_type": "code",
   "execution_count": null,
   "metadata": {},
   "outputs": [],
   "source": [
    "    #parameters of spacecraft at the Libration point 2\n",
    "    target = '-957'\n",
    "    frame  = 'J2000'\n",
    "    corrtn = 'NONE'\n",
    "    observ = 'VENUS'\n",
    "    \n",
    "    #parameters of spacecraft at the elleptical orbit\n",
    "    target1 = '-10007001' #1337\n",
    "    frame1  = 'J2000'\n",
    "    corrtn1 = 'NONE'\n",
    "    observ1 = 'VENUS'\n",
    "    \n",
    "    #time of missing started\n",
    "    utc = '2026-05-19T19:58:02'\n",
    "    \n",
    "    #step calculated\n",
    "    et = convertutc2et('2026-06-01T00:00:0')\n",
    "    start = et\n",
    "    stop = convertutc2et('2027-11-17T00:00:0')\n",
    "    et1 = convertutc2et('2026-05-12T00:00:00')\n",
    "    et2 = convertutc2et('2026-05-12T00:01:00')\n",
    "    det = et2 - et1\n",
    "    time_1 = round((stop-start)/det)\n",
    "    print(time_1)\n",
    "    #rad_surf, rud_surf_ = np.array([]),  np.array([])         f.write('UTC     ={:s}'.format(utc)+'\\n')\n",
    "    \n",
    "    R_v = 6051.8\n",
    "    R_a = 6401.8\n",
    "\n",
    "    #additional parameters\n",
    "    _y_ = np.array([0, 1, 0], dtype=float)\n",
    "    t=0\n",
    "    s = 0\n",
    "    #calculating time zone\n",
    "\n",
    "    for i in np.arange (0, time_1): \n",
    "        simple_calculus(et, target, frame, corrtn, observ, target1, frame1, corrtn1, observ1, R_v, R_a, s, t)\n",
    "f1.close()"
   ]
  },
  {
   "cell_type": "code",
   "execution_count": null,
   "metadata": {},
   "outputs": [],
   "source": []
  }
 ],
 "metadata": {
  "kernelspec": {
   "display_name": "Python 3",
   "language": "python",
   "name": "python3"
  },
  "language_info": {
   "codemirror_mode": {
    "name": "ipython",
    "version": 3
   },
   "file_extension": ".py",
   "mimetype": "text/x-python",
   "name": "python",
   "nbconvert_exporter": "python",
   "pygments_lexer": "ipython3",
   "version": "3.7.1"
  }
 },
 "nbformat": 4,
 "nbformat_minor": 2
}
